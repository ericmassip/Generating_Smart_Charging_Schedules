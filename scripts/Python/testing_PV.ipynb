{
 "cells": [
  {
   "cell_type": "code",
   "execution_count": 1,
   "metadata": {
    "collapsed": true
   },
   "outputs": [],
   "source": [
    "import urllib\n",
    "import requests\n",
    "from datetime import datetime\n",
    "import json\n",
    "import pickle\n",
    "\n",
    "URL = 'https://st-dev-data-api.azurewebsites.net'\n",
    "invertersURL = urllib.parse.urljoin(URL, '/api/v0.1/buildings/energyville1/pv/roof/inverters/')\n",
    "powerURL = urllib.parse.urljoin(URL, '/api/v0.1/buildings/energyville1/pv/roof/power/')\n",
    "user = 'eric_massip'\n",
    "pswd = 'ssCpoDC3uHF4ssHJtvMf'\n",
    "\n",
    "DATE_FORMAT_STR = \"%Y-%m-%d\"\n",
    "\n",
    "start_time = datetime(2017, 6, 1)\n",
    "end_time = datetime(2017, 6, 2)\n",
    "\n",
    "\n",
    "def get_inverter_ids():\n",
    "    inverter_ids_json_response = json.loads(requests.get(invertersURL, auth=(user, pswd)).text)['data']\n",
    "    inverter_ids = []\n",
    "    for i in range(len(inverter_ids_json_response)):\n",
    "        inverter_ids.append(inverter_ids_json_response[i]['InverterId'])\n",
    "    return inverter_ids\n",
    "\n",
    "\n",
    "def get_params(inverter_id, start, end):\n",
    "    return {'start': start.strftime(DATE_FORMAT_STR),\n",
    "            'end': end.strftime(DATE_FORMAT_STR),\n",
    "            'time_zone': 'Central European Standard Time',\n",
    "            'inverter_ids': inverter_id}\n",
    "\n",
    "\n",
    "def get_power_consumption(inverter_id, start, end):\n",
    "    return json.loads(requests.get(powerURL, params=get_params(inverter_id, start, end), auth=(user, pswd)).text)['data']\n",
    "\n",
    "\n",
    "def get_power_consumptions(start, end):\n",
    "    return [get_power_consumption(inverter_id, start, end) for inverter_id in get_inverter_ids()]\n",
    "\n",
    "\n",
    "power_consumptions = get_power_consumptions(start_time, end_time)\n",
    "#pickle.dump(power_consumptions, open('power_consumptions', 'wb'))\n"
   ]
  },
  {
   "cell_type": "code",
   "execution_count": 3,
   "metadata": {},
   "outputs": [
    {
     "name": "stdout",
     "output_type": "stream",
     "text": [
      "{'DCGenerationPower': 11439.0,\n 'DateTimeMeasurement': '2017-06-01 10:00:00+02:00',\n 'GenerationPower': 11251.0,\n 'InverterDescription': 'Omvormer 01',\n 'InverterId': '9369356'}\n{'DCGenerationPower': 10512.0,\n 'DateTimeMeasurement': '2017-06-01 10:00:00+02:00',\n 'GenerationPower': 10238.0,\n 'InverterDescription': 'Omvormer 02',\n 'InverterId': '9363524'}\n{'DCGenerationPower': 10820.0,\n 'DateTimeMeasurement': '2017-06-01 10:00:00+02:00',\n 'GenerationPower': 10592.0,\n 'InverterDescription': 'Omvormer 04',\n 'InverterId': '9363686'}\n{'DCGenerationPower': 10743.0,\n 'DateTimeMeasurement': '2017-06-01 10:00:00+02:00',\n 'GenerationPower': 10541.0,\n 'InverterDescription': 'Omvormer 05',\n 'InverterId': '11637887'}\n{'DCGenerationPower': 2750.0,\n 'DateTimeMeasurement': '2017-06-01 10:00:00+02:00',\n 'GenerationPower': 4500.0,\n 'InverterDescription': 'Omvormer 06',\n 'InverterId': '9363848'}\n{'DCGenerationPower': 2720.0,\n 'DateTimeMeasurement': '2017-06-01 10:00:00+02:00',\n 'GenerationPower': 4500.0,\n 'InverterDescription': 'Omvormer 07',\n 'InverterId': '9364143'}\n{'DCGenerationPower': 2680.0,\n 'DateTimeMeasurement': '2017-06-01 10:00:00+02:00',\n 'GenerationPower': 4400.0,\n 'InverterDescription': 'Omvormer 08',\n 'InverterId': '9364206'}\n{'DCGenerationPower': 2740.0,\n 'DateTimeMeasurement': '2017-06-01 10:00:00+02:00',\n 'GenerationPower': 4460.0,\n 'InverterDescription': 'Omvormer 10',\n 'InverterId': '9363911'}\n{'DCGenerationPower': 2710.0,\n 'DateTimeMeasurement': '2017-06-01 10:00:00+02:00',\n 'GenerationPower': 4410.0,\n 'InverterDescription': 'Omvormer 11',\n 'InverterId': '9364017'}\n{'DCGenerationPower': 2710.0,\n 'DateTimeMeasurement': '2017-06-01 10:00:00+02:00',\n 'GenerationPower': 4460.0,\n 'InverterDescription': 'Omvormer 12',\n 'InverterId': '9364080'}\n{'DCGenerationPower': 1600.0,\n 'DateTimeMeasurement': '2017-06-01 10:00:00+02:00',\n 'GenerationPower': 3190.0,\n 'InverterDescription': 'Omvormer 13',\n 'InverterId': '10554728'}\n{'DCGenerationPower': 10857.0,\n 'DateTimeMeasurement': '2017-06-01 10:00:00+02:00',\n 'GenerationPower': 10559.0,\n 'InverterDescription': 'Omvormer 14',\n 'InverterId': '9364332'}\n{'DCGenerationPower': 2470.0,\n 'DateTimeMeasurement': '2017-06-01 10:00:00+02:00',\n 'GenerationPower': 4080.0,\n 'InverterDescription': 'Omvormer 15',\n 'InverterId': '9364413'}\n{'DCGenerationPower': 2350.0,\n 'DateTimeMeasurement': '2017-06-01 10:00:00+02:00',\n 'GenerationPower': 4370.0,\n 'InverterDescription': 'Omvormer 16',\n 'InverterId': '9364476'}\n{'DCGenerationPower': 1610.0,\n 'DateTimeMeasurement': '2017-06-01 10:00:00+02:00',\n 'GenerationPower': 3360.0,\n 'InverterDescription': 'Omvormer 17',\n 'InverterId': '9364539'}\n{'DCGenerationPower': 2360.0,\n 'DateTimeMeasurement': '2017-06-01 10:00:00+02:00',\n 'GenerationPower': 4370.0,\n 'InverterDescription': 'Omvormer 19',\n 'InverterId': '9364665'}\n{'DCGenerationPower': 8803.0,\n 'DateTimeMeasurement': '2017-06-01 10:00:00+02:00',\n 'GenerationPower': 8449.0,\n 'InverterDescription': 'Omvormer 20',\n 'InverterId': '9364728'}\n{'DCGenerationPower': 11217.0,\n 'DateTimeMeasurement': '2017-06-01 10:00:00+02:00',\n 'GenerationPower': 10953.0,\n 'InverterDescription': 'Omvormer 21',\n 'InverterId': '11298425'}\n{'DCGenerationPower': 9624.0,\n 'DateTimeMeasurement': '2017-06-01 10:00:00+02:00',\n 'GenerationPower': 9321.0,\n 'InverterDescription': 'Omvormer 22',\n 'InverterId': '9364890'}\n{'DCGenerationPower': 15204.0,\n 'DateTimeMeasurement': '2017-06-01 10:00:00+02:00',\n 'GenerationPower': 14946.0,\n 'InverterDescription': 'Omvormer 24',\n 'InverterId': '11637806'}\nSUM: 142950.0\n"
     ]
    }
   ],
   "source": [
    "import pprint\n",
    "from datetime import datetime\n",
    "\n",
    "sum = 0\n",
    "for inverter_consumption in power_consumptions:\n",
    "    for piece in inverter_consumption:\n",
    "        hour = datetime.fromisoformat(piece['DateTimeMeasurement']).hour\n",
    "        minute = datetime.fromisoformat(piece['DateTimeMeasurement']).minute\n",
    "        if piece['GenerationPower'] > 0 and minute == 0 and hour == 10:\n",
    "            sum += piece['GenerationPower']\n",
    "            pprint.pprint(piece)\n",
    "\n",
    "print('SUM: ' + str(sum))"
   ]
  },
  {
   "cell_type": "code",
   "execution_count": null,
   "metadata": {},
   "outputs": [],
   "source": []
  }
 ],
 "metadata": {
  "kernelspec": {
   "display_name": "Python 2",
   "language": "python",
   "name": "python2"
  },
  "language_info": {
   "codemirror_mode": {
    "name": "ipython",
    "version": 2
   },
   "file_extension": ".py",
   "mimetype": "text/x-python",
   "name": "python",
   "nbconvert_exporter": "python",
   "pygments_lexer": "ipython2",
   "version": "2.7.6"
  }
 },
 "nbformat": 4,
 "nbformat_minor": 0
}
