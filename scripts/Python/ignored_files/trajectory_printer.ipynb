{
 "cells": [
  {
   "cell_type": "code",
   "execution_count": 30,
   "metadata": {},
   "outputs": [],
   "source": [
    "import json\n",
    "import numpy as np"
   ]
  },
  {
   "cell_type": "code",
   "execution_count": 4,
   "metadata": {},
   "outputs": [],
   "source": [
    "json_to_be_beautified = json.loads(open('dict.json').read())"
   ]
  },
  {
   "cell_type": "code",
   "execution_count": 5,
   "metadata": {},
   "outputs": [],
   "source": [
    "def matprint(mat, fmt=\"g\"):\n",
    "    mat = np.around(mat, decimals=2)\n",
    "    col_maxes = [max([len((\"{:\"+fmt+\"}\").format(x)) for x in col]) for col in mat.T]\n",
    "    for x in mat:\n",
    "        for i, y in enumerate(x):\n",
    "            print((\"{:\"+str(col_maxes[i])+fmt+\"}\").format(y), end=\"  \")\n",
    "        print(\"\")"
   ]
  },
  {
   "cell_type": "code",
   "execution_count": 18,
   "metadata": {},
   "outputs": [],
   "source": [
    "def show_state_action_tuple(state_action_tuple):\n",
    "    print('Timeslot: ' + str(state_action_tuple.timeslot))\n",
    "    print(\"\")\n",
    "    print('Xs:')\n",
    "    matprint(state_action_tuple.Xs)\n",
    "    print(\"\")\n",
    "    print('Action taken:')\n",
    "    print(state_action_tuple.us)\n",
    "    print(\"\")\n",
    "    print('resulting_Xs:')\n",
    "    matprint(state_action_tuple.resulting_Xs)\n",
    "    print(\"\")\n",
    "    print('Cost:')\n",
    "    print(state_action_tuple.cost)\n",
    "    print('Next timeslot: ' + str(state_action_tuple.next_timeslot))\n",
    "    print(\"\")\n",
    "    print(\"\")\n",
    "    print(\"\")\n",
    "\n",
    "\n",
    "def show_trajectory_beautifully(trajectory):\n",
    "    for state_action in trajectory:\n",
    "        show_state_action_tuple(state_action)"
   ]
  },
  {
   "cell_type": "code",
   "execution_count": 32,
   "metadata": {},
   "outputs": [],
   "source": [
    "class StateActionTuple():\n",
    "    def __init__(self, state_action):\n",
    "        self.timeslot = state_action['timeslot']\n",
    "        self.Xs = np.reshape(state_action['Xs'], (3, 3))\n",
    "        self.us = state_action['us']\n",
    "        self.resulting_Xs = np.reshape(state_action['resulting_Xs'], (3, 3))\n",
    "        self.cost = state_action['cost']\n",
    "        self.next_timeslot = state_action['next_timeslot']"
   ]
  },
  {
   "cell_type": "code",
   "execution_count": 33,
   "metadata": {},
   "outputs": [],
   "source": [
    "class Trajectory:\n",
    "    def __init__(self, state_action_tuple):\n",
    "        self.start = state_action_tuple.timeslot\n",
    "        self.end = state_action_tuple.next_timeslot\n",
    "        self.trajectory = []\n",
    "    \n",
    "    def add_state_action(self, state_action_tuple):\n",
    "        self.trajectory.append(state_action_tuple)\n",
    "        self.end = state_action_tuple.next_timeslot\n",
    "    \n",
    "    def remove_state_actions(self, n):\n",
    "        self.trajectory = trajectory[: len(trajectory) - n] "
   ]
  },
  {
   "cell_type": "code",
   "execution_count": 34,
   "metadata": {},
   "outputs": [],
   "source": [
    "def get_organized_trajectories(state_actions):\n",
    "    state_action_tuples = [StateActionTuple(state_action) for state_action in trajectory]\n",
    "    trajectories = []\n",
    "    current_trajectory = Trajectory(state_action_tuples.pop(0))\n",
    "    \n",
    "    for state_action_tuple in state_action_tuples:\n",
    "        \n",
    "        if state_action_tuple.timeslot == current_trajectory.end:\n",
    "            current_trajectory.add_state_action(state_action_tuple)\n",
    "            \n",
    "        else:\n",
    "            difference = current_trajectory.end - state_action_tuple.timeslot\n",
    "            current_trajectory.remove_state_actions(difference)\n",
    "            current_trajectory.add_state_action(state_action_tuple)\n",
    "            \n",
    "        if state_action_tuple.timeslot == 3:\n",
    "            trajectories.append(current_trajectory.trajectory)"
   ]
  },
  {
   "cell_type": "code",
   "execution_count": 35,
   "metadata": {},
   "outputs": [],
   "source": [
    "trajectory = json_to_be_beautified['trajectories']\n",
    "#show_trajectory_beautifully(trajectory)"
   ]
  },
  {
   "cell_type": "code",
   "execution_count": 36,
   "metadata": {},
   "outputs": [],
   "source": [
    "organized_trajectories = get_organized_trajectories(trajectory)"
   ]
  },
  {
   "cell_type": "code",
   "execution_count": 37,
   "metadata": {},
   "outputs": [
    {
     "name": "stdout",
     "output_type": "stream",
     "text": [
      "None\n"
     ]
    }
   ],
   "source": [
    "print(organized_trajectories)"
   ]
  },
  {
   "cell_type": "code",
   "execution_count": 23,
   "metadata": {},
   "outputs": [],
   "source": [
    "state_action_tuples = [StateActionTuple(state_action) for state_action in trajectory]\n",
    "\n",
    "\n",
    "def get_number_of_possible_trajectories():\n",
    "    return len(list(filter(lambda state_action_tuple:\n",
    "                           state_action_tuple.timeslot == 3 and\n",
    "                           state_action_tuple.next_timeslot == 4,\n",
    "                           state_action_tuples)))\n"
   ]
  },
  {
   "cell_type": "code",
   "execution_count": null,
   "metadata": {},
   "outputs": [],
   "source": []
  }
 ],
 "metadata": {
  "kernelspec": {
   "display_name": "thesis3",
   "language": "python",
   "name": "thesis3"
  },
  "language_info": {
   "codemirror_mode": {
    "name": "ipython",
    "version": 3
   },
   "file_extension": ".py",
   "mimetype": "text/x-python",
   "name": "python",
   "nbconvert_exporter": "python",
   "pygments_lexer": "ipython3",
   "version": "3.7.1"
  }
 },
 "nbformat": 4,
 "nbformat_minor": 1
}
