{
 "cells": [
  {
   "cell_type": "code",
   "execution_count": 2,
   "metadata": {},
   "outputs": [],
   "source": [
    "import pandas as pd\n",
    "\n",
    "import azure_db_service"
   ]
  },
  {
   "cell_type": "code",
   "execution_count": 3,
   "metadata": {},
   "outputs": [],
   "source": [
    "historical_transactions = azure_db_service.get_data_from_historical_transactions()"
   ]
  },
  {
   "cell_type": "code",
   "execution_count": 4,
   "metadata": {},
   "outputs": [
    {
     "data": {
      "text/html": [
       "<div>\n",
       "<style scoped>\n",
       "    .dataframe tbody tr th:only-of-type {\n",
       "        vertical-align: middle;\n",
       "    }\n",
       "\n",
       "    .dataframe tbody tr th {\n",
       "        vertical-align: top;\n",
       "    }\n",
       "\n",
       "    .dataframe thead th {\n",
       "        text-align: right;\n",
       "    }\n",
       "</style>\n",
       "<table border=\"1\" class=\"dataframe\">\n",
       "  <thead>\n",
       "    <tr style=\"text-align: right;\">\n",
       "      <th></th>\n",
       "      <th>chargingStationId</th>\n",
       "      <th>chg3phase</th>\n",
       "      <th>connectorId</th>\n",
       "      <th>curPower</th>\n",
       "      <th>energy</th>\n",
       "      <th>finished</th>\n",
       "      <th>idTag</th>\n",
       "      <th>lastSeen</th>\n",
       "      <th>maxPowerSeen</th>\n",
       "      <th>meterStart</th>\n",
       "      <th>meterStop</th>\n",
       "      <th>startTime</th>\n",
       "      <th>stopTime</th>\n",
       "    </tr>\n",
       "    <tr>\n",
       "      <th>transactionId</th>\n",
       "      <th></th>\n",
       "      <th></th>\n",
       "      <th></th>\n",
       "      <th></th>\n",
       "      <th></th>\n",
       "      <th></th>\n",
       "      <th></th>\n",
       "      <th></th>\n",
       "      <th></th>\n",
       "      <th></th>\n",
       "      <th></th>\n",
       "      <th></th>\n",
       "      <th></th>\n",
       "    </tr>\n",
       "  </thead>\n",
       "  <tbody>\n",
       "    <tr>\n",
       "      <th>4120714</th>\n",
       "      <td>ALFEN1</td>\n",
       "      <td>False</td>\n",
       "      <td>2</td>\n",
       "      <td>0.0</td>\n",
       "      <td>11570</td>\n",
       "      <td>True</td>\n",
       "      <td>04974FFAB63780</td>\n",
       "      <td>2018-08-08T14:31:30Z</td>\n",
       "      <td>3414.0</td>\n",
       "      <td>427150</td>\n",
       "      <td>438720.0</td>\n",
       "      <td>2018-08-08T07:14:40Z</td>\n",
       "      <td>2018-08-08T14:31:33+00:00</td>\n",
       "    </tr>\n",
       "    <tr>\n",
       "      <th>8590630</th>\n",
       "      <td>BLUEC2</td>\n",
       "      <td>True</td>\n",
       "      <td>1</td>\n",
       "      <td>0.0</td>\n",
       "      <td>11590</td>\n",
       "      <td>True</td>\n",
       "      <td>043661B2B63780</td>\n",
       "      <td>2018-08-08T15:48:06Z</td>\n",
       "      <td>21558.0</td>\n",
       "      <td>483890</td>\n",
       "      <td>495480.0</td>\n",
       "      <td>2018-08-08T06:30:24Z</td>\n",
       "      <td>2018-08-08T15:48:11+00:00</td>\n",
       "    </tr>\n",
       "    <tr>\n",
       "      <th>9330752</th>\n",
       "      <td>ALFEN1</td>\n",
       "      <td>False</td>\n",
       "      <td>1</td>\n",
       "      <td>0.0</td>\n",
       "      <td>10800</td>\n",
       "      <td>True</td>\n",
       "      <td>044627B2B63780</td>\n",
       "      <td>2018-08-08T14:52:45Z</td>\n",
       "      <td>6618.0</td>\n",
       "      <td>928160</td>\n",
       "      <td>938960.0</td>\n",
       "      <td>2018-08-08T07:52:35Z</td>\n",
       "      <td>2018-08-08T14:52:43+00:00</td>\n",
       "    </tr>\n",
       "    <tr>\n",
       "      <th>1150705</th>\n",
       "      <td>ALFEN1</td>\n",
       "      <td>False</td>\n",
       "      <td>1</td>\n",
       "      <td>0.0</td>\n",
       "      <td>17180</td>\n",
       "      <td>True</td>\n",
       "      <td>044D79B2B63780</td>\n",
       "      <td>2018-08-13T15:23:08Z</td>\n",
       "      <td>6799.0</td>\n",
       "      <td>938960</td>\n",
       "      <td>956140.0</td>\n",
       "      <td>2018-08-13T07:05:35Z</td>\n",
       "      <td>2018-08-13T15:23:02+00:00</td>\n",
       "    </tr>\n",
       "    <tr>\n",
       "      <th>2580630</th>\n",
       "      <td>ALFEN1</td>\n",
       "      <td>False</td>\n",
       "      <td>2</td>\n",
       "      <td>0.0</td>\n",
       "      <td>11200</td>\n",
       "      <td>True</td>\n",
       "      <td>04974FFAB63780</td>\n",
       "      <td>2018-08-13T15:55:29Z</td>\n",
       "      <td>3419.0</td>\n",
       "      <td>438720</td>\n",
       "      <td>449920.0</td>\n",
       "      <td>2018-08-13T06:29:54Z</td>\n",
       "      <td>2018-08-13T15:55:24+00:00</td>\n",
       "    </tr>\n",
       "  </tbody>\n",
       "</table>\n",
       "</div>"
      ],
      "text/plain": [
       "              chargingStationId  chg3phase  connectorId  curPower  energy  \\\n",
       "transactionId                                                               \n",
       "4120714                  ALFEN1      False            2       0.0   11570   \n",
       "8590630                  BLUEC2       True            1       0.0   11590   \n",
       "9330752                  ALFEN1      False            1       0.0   10800   \n",
       "1150705                  ALFEN1      False            1       0.0   17180   \n",
       "2580630                  ALFEN1      False            2       0.0   11200   \n",
       "\n",
       "               finished           idTag              lastSeen  maxPowerSeen  \\\n",
       "transactionId                                                                 \n",
       "4120714            True  04974FFAB63780  2018-08-08T14:31:30Z        3414.0   \n",
       "8590630            True  043661B2B63780  2018-08-08T15:48:06Z       21558.0   \n",
       "9330752            True  044627B2B63780  2018-08-08T14:52:45Z        6618.0   \n",
       "1150705            True  044D79B2B63780  2018-08-13T15:23:08Z        6799.0   \n",
       "2580630            True  04974FFAB63780  2018-08-13T15:55:29Z        3419.0   \n",
       "\n",
       "               meterStart  meterStop             startTime  \\\n",
       "transactionId                                                \n",
       "4120714            427150   438720.0  2018-08-08T07:14:40Z   \n",
       "8590630            483890   495480.0  2018-08-08T06:30:24Z   \n",
       "9330752            928160   938960.0  2018-08-08T07:52:35Z   \n",
       "1150705            938960   956140.0  2018-08-13T07:05:35Z   \n",
       "2580630            438720   449920.0  2018-08-13T06:29:54Z   \n",
       "\n",
       "                                stopTime  \n",
       "transactionId                             \n",
       "4120714        2018-08-08T14:31:33+00:00  \n",
       "8590630        2018-08-08T15:48:11+00:00  \n",
       "9330752        2018-08-08T14:52:43+00:00  \n",
       "1150705        2018-08-13T15:23:02+00:00  \n",
       "2580630        2018-08-13T15:55:24+00:00  "
      ]
     },
     "execution_count": 4,
     "metadata": {},
     "output_type": "execute_result"
    }
   ],
   "source": [
    "historical_transactions.head()"
   ]
  },
  {
   "cell_type": "code",
   "execution_count": 5,
   "metadata": {},
   "outputs": [
    {
     "data": {
      "text/plain": [
       "Index(['chargingStationId', 'chg3phase', 'connectorId', 'curPower', 'energy',\n",
       "       'finished', 'idTag', 'lastSeen', 'maxPowerSeen', 'meterStart',\n",
       "       'meterStop', 'startTime', 'stopTime'],\n",
       "      dtype='object')"
      ]
     },
     "execution_count": 5,
     "metadata": {},
     "output_type": "execute_result"
    }
   ],
   "source": [
    "historical_transactions.columns"
   ]
  },
  {
   "cell_type": "code",
   "execution_count": 6,
   "metadata": {},
   "outputs": [
    {
     "data": {
      "text/html": [
       "<div>\n",
       "<style scoped>\n",
       "    .dataframe tbody tr th:only-of-type {\n",
       "        vertical-align: middle;\n",
       "    }\n",
       "\n",
       "    .dataframe tbody tr th {\n",
       "        vertical-align: top;\n",
       "    }\n",
       "\n",
       "    .dataframe thead th {\n",
       "        text-align: right;\n",
       "    }\n",
       "</style>\n",
       "<table border=\"1\" class=\"dataframe\">\n",
       "  <thead>\n",
       "    <tr style=\"text-align: right;\">\n",
       "      <th></th>\n",
       "      <th>connectorId</th>\n",
       "      <th>curPower</th>\n",
       "      <th>energy</th>\n",
       "      <th>maxPowerSeen</th>\n",
       "      <th>meterStart</th>\n",
       "      <th>meterStop</th>\n",
       "    </tr>\n",
       "  </thead>\n",
       "  <tbody>\n",
       "    <tr>\n",
       "      <th>count</th>\n",
       "      <td>203.000000</td>\n",
       "      <td>203.000000</td>\n",
       "      <td>203.000000</td>\n",
       "      <td>203.000000</td>\n",
       "      <td>2.030000e+02</td>\n",
       "      <td>2.030000e+02</td>\n",
       "    </tr>\n",
       "    <tr>\n",
       "      <th>mean</th>\n",
       "      <td>1.438424</td>\n",
       "      <td>451.166798</td>\n",
       "      <td>15608.768473</td>\n",
       "      <td>7939.118227</td>\n",
       "      <td>8.381472e+05</td>\n",
       "      <td>8.537560e+05</td>\n",
       "    </tr>\n",
       "    <tr>\n",
       "      <th>std</th>\n",
       "      <td>0.497421</td>\n",
       "      <td>1745.181595</td>\n",
       "      <td>10505.875346</td>\n",
       "      <td>5851.309212</td>\n",
       "      <td>3.652325e+05</td>\n",
       "      <td>3.662546e+05</td>\n",
       "    </tr>\n",
       "    <tr>\n",
       "      <th>min</th>\n",
       "      <td>1.000000</td>\n",
       "      <td>0.000000</td>\n",
       "      <td>0.000000</td>\n",
       "      <td>48.000000</td>\n",
       "      <td>3.154200e+05</td>\n",
       "      <td>3.288100e+05</td>\n",
       "    </tr>\n",
       "    <tr>\n",
       "      <th>25%</th>\n",
       "      <td>1.000000</td>\n",
       "      <td>0.000000</td>\n",
       "      <td>9680.000000</td>\n",
       "      <td>3529.500000</td>\n",
       "      <td>5.782700e+05</td>\n",
       "      <td>5.911250e+05</td>\n",
       "    </tr>\n",
       "    <tr>\n",
       "      <th>50%</th>\n",
       "      <td>1.000000</td>\n",
       "      <td>0.000000</td>\n",
       "      <td>11730.000000</td>\n",
       "      <td>6599.000000</td>\n",
       "      <td>7.529600e+05</td>\n",
       "      <td>7.589500e+05</td>\n",
       "    </tr>\n",
       "    <tr>\n",
       "      <th>75%</th>\n",
       "      <td>2.000000</td>\n",
       "      <td>0.000000</td>\n",
       "      <td>18185.000000</td>\n",
       "      <td>11271.000000</td>\n",
       "      <td>9.832300e+05</td>\n",
       "      <td>1.011820e+06</td>\n",
       "    </tr>\n",
       "    <tr>\n",
       "      <th>max</th>\n",
       "      <td>2.000000</td>\n",
       "      <td>16606.000000</td>\n",
       "      <td>59970.000000</td>\n",
       "      <td>22851.000000</td>\n",
       "      <td>1.984190e+06</td>\n",
       "      <td>1.988240e+06</td>\n",
       "    </tr>\n",
       "  </tbody>\n",
       "</table>\n",
       "</div>"
      ],
      "text/plain": [
       "       connectorId      curPower        energy  maxPowerSeen    meterStart  \\\n",
       "count   203.000000    203.000000    203.000000    203.000000  2.030000e+02   \n",
       "mean      1.438424    451.166798  15608.768473   7939.118227  8.381472e+05   \n",
       "std       0.497421   1745.181595  10505.875346   5851.309212  3.652325e+05   \n",
       "min       1.000000      0.000000      0.000000     48.000000  3.154200e+05   \n",
       "25%       1.000000      0.000000   9680.000000   3529.500000  5.782700e+05   \n",
       "50%       1.000000      0.000000  11730.000000   6599.000000  7.529600e+05   \n",
       "75%       2.000000      0.000000  18185.000000  11271.000000  9.832300e+05   \n",
       "max       2.000000  16606.000000  59970.000000  22851.000000  1.984190e+06   \n",
       "\n",
       "          meterStop  \n",
       "count  2.030000e+02  \n",
       "mean   8.537560e+05  \n",
       "std    3.662546e+05  \n",
       "min    3.288100e+05  \n",
       "25%    5.911250e+05  \n",
       "50%    7.589500e+05  \n",
       "75%    1.011820e+06  \n",
       "max    1.988240e+06  "
      ]
     },
     "execution_count": 6,
     "metadata": {},
     "output_type": "execute_result"
    }
   ],
   "source": [
    "historical_transactions.describe()"
   ]
  },
  {
   "cell_type": "code",
   "execution_count": 7,
   "metadata": {},
   "outputs": [],
   "source": [
    "transactions_by_user = historical_transactions['idTag']"
   ]
  },
  {
   "cell_type": "code",
   "execution_count": 8,
   "metadata": {},
   "outputs": [
    {
     "data": {
      "text/plain": [
       "transactionId\n",
       "4120714    04974FFAB63780\n",
       "8590630    043661B2B63780\n",
       "9330752    044627B2B63780\n",
       "1150705    044D79B2B63780\n",
       "2580630    04974FFAB63780\n",
       "Name: idTag, dtype: object"
      ]
     },
     "execution_count": 8,
     "metadata": {},
     "output_type": "execute_result"
    }
   ],
   "source": [
    "transactions_by_user.head()"
   ]
  },
  {
   "cell_type": "code",
   "execution_count": 76,
   "metadata": {},
   "outputs": [],
   "source": [
    "power_data = azure_db_service.get_power_data_from_meter_values(4120714)"
   ]
  },
  {
   "cell_type": "code",
   "execution_count": 77,
   "metadata": {},
   "outputs": [
    {
     "data": {
      "text/html": [
       "<div>\n",
       "<style scoped>\n",
       "    .dataframe tbody tr th:only-of-type {\n",
       "        vertical-align: middle;\n",
       "    }\n",
       "\n",
       "    .dataframe tbody tr th {\n",
       "        vertical-align: top;\n",
       "    }\n",
       "\n",
       "    .dataframe thead th {\n",
       "        text-align: right;\n",
       "    }\n",
       "</style>\n",
       "<table border=\"1\" class=\"dataframe\">\n",
       "  <thead>\n",
       "    <tr style=\"text-align: right;\">\n",
       "      <th></th>\n",
       "      <th>PartitionKey</th>\n",
       "      <th>chargingStationId</th>\n",
       "      <th>connectorId</th>\n",
       "      <th>timestampMeasurement</th>\n",
       "      <th>value</th>\n",
       "    </tr>\n",
       "    <tr>\n",
       "      <th>meterValueId</th>\n",
       "      <th></th>\n",
       "      <th></th>\n",
       "      <th></th>\n",
       "      <th></th>\n",
       "      <th></th>\n",
       "    </tr>\n",
       "  </thead>\n",
       "  <tbody>\n",
       "    <tr>\n",
       "      <th>001e42a7-0c5e-47c6-a5e0-9f4ca7ba3087</th>\n",
       "      <td>4120714</td>\n",
       "      <td>ALFEN1</td>\n",
       "      <td>2</td>\n",
       "      <td>2018-08-08T07:45:03Z</td>\n",
       "      <td>3406.080</td>\n",
       "    </tr>\n",
       "    <tr>\n",
       "      <th>0021062a-04da-4a3a-a1fe-92b057f76e8c</th>\n",
       "      <td>4120714</td>\n",
       "      <td>ALFEN1</td>\n",
       "      <td>2</td>\n",
       "      <td>2018-08-08T13:04:43Z</td>\n",
       "      <td>0.000</td>\n",
       "    </tr>\n",
       "    <tr>\n",
       "      <th>00314cab-ff00-4d8f-9563-48d0cbde50a8</th>\n",
       "      <td>4120714</td>\n",
       "      <td>ALFEN1</td>\n",
       "      <td>2</td>\n",
       "      <td>2018-08-08T09:47:03Z</td>\n",
       "      <td>3390.400</td>\n",
       "    </tr>\n",
       "    <tr>\n",
       "      <th>0050db6a-e85f-4270-b383-4a63062d4a77</th>\n",
       "      <td>4120714</td>\n",
       "      <td>ALFEN1</td>\n",
       "      <td>2</td>\n",
       "      <td>2018-08-08T09:05:43Z</td>\n",
       "      <td>3386.180</td>\n",
       "    </tr>\n",
       "    <tr>\n",
       "      <th>0060eaa6-880b-4152-bba9-fa8fbde2e383</th>\n",
       "      <td>4120714</td>\n",
       "      <td>ALFEN1</td>\n",
       "      <td>2</td>\n",
       "      <td>2018-08-08T12:44:23Z</td>\n",
       "      <td>0.000</td>\n",
       "    </tr>\n",
       "  </tbody>\n",
       "</table>\n",
       "</div>"
      ],
      "text/plain": [
       "                                     PartitionKey chargingStationId  \\\n",
       "meterValueId                                                          \n",
       "001e42a7-0c5e-47c6-a5e0-9f4ca7ba3087      4120714            ALFEN1   \n",
       "0021062a-04da-4a3a-a1fe-92b057f76e8c      4120714            ALFEN1   \n",
       "00314cab-ff00-4d8f-9563-48d0cbde50a8      4120714            ALFEN1   \n",
       "0050db6a-e85f-4270-b383-4a63062d4a77      4120714            ALFEN1   \n",
       "0060eaa6-880b-4152-bba9-fa8fbde2e383      4120714            ALFEN1   \n",
       "\n",
       "                                     connectorId  timestampMeasurement  \\\n",
       "meterValueId                                                             \n",
       "001e42a7-0c5e-47c6-a5e0-9f4ca7ba3087           2  2018-08-08T07:45:03Z   \n",
       "0021062a-04da-4a3a-a1fe-92b057f76e8c           2  2018-08-08T13:04:43Z   \n",
       "00314cab-ff00-4d8f-9563-48d0cbde50a8           2  2018-08-08T09:47:03Z   \n",
       "0050db6a-e85f-4270-b383-4a63062d4a77           2  2018-08-08T09:05:43Z   \n",
       "0060eaa6-880b-4152-bba9-fa8fbde2e383           2  2018-08-08T12:44:23Z   \n",
       "\n",
       "                                         value  \n",
       "meterValueId                                    \n",
       "001e42a7-0c5e-47c6-a5e0-9f4ca7ba3087  3406.080  \n",
       "0021062a-04da-4a3a-a1fe-92b057f76e8c     0.000  \n",
       "00314cab-ff00-4d8f-9563-48d0cbde50a8  3390.400  \n",
       "0050db6a-e85f-4270-b383-4a63062d4a77  3386.180  \n",
       "0060eaa6-880b-4152-bba9-fa8fbde2e383     0.000  "
      ]
     },
     "execution_count": 77,
     "metadata": {},
     "output_type": "execute_result"
    }
   ],
   "source": [
    "power_data.head()"
   ]
  },
  {
   "cell_type": "code",
   "execution_count": 78,
   "metadata": {},
   "outputs": [],
   "source": [
    "power_data.drop(['PartitionKey', 'chargingStationId', 'connectorId'], axis=1, inplace=True)"
   ]
  },
  {
   "cell_type": "code",
   "execution_count": 79,
   "metadata": {},
   "outputs": [],
   "source": [
    "power_data.sort_values(by='timestampMeasurement', inplace=True)"
   ]
  },
  {
   "cell_type": "code",
   "execution_count": 127,
   "metadata": {},
   "outputs": [],
   "source": [
    "power_data_cleaned = power_data"
   ]
  },
  {
   "cell_type": "code",
   "execution_count": 128,
   "metadata": {},
   "outputs": [],
   "source": [
    "import pandas as pd\n",
    "import matplotlib.pyplot as plt\n",
    "import seaborn as sns\n",
    "import numpy as np\n",
    "\n",
    "sns.set(rc={'figure.figsize':(10,7)})\n",
    "\n",
    "#power_data_cleaned = power_data_cleaned.set_index(power_data_cleaned.timestampMeasurement)\n",
    "#power_data_cleaned.drop(['timestampMeasurement'], axis=1, inplace=True)"
   ]
  },
  {
   "cell_type": "code",
   "execution_count": 129,
   "metadata": {},
   "outputs": [
    {
     "data": {
      "text/html": [
       "<div>\n",
       "<style scoped>\n",
       "    .dataframe tbody tr th:only-of-type {\n",
       "        vertical-align: middle;\n",
       "    }\n",
       "\n",
       "    .dataframe tbody tr th {\n",
       "        vertical-align: top;\n",
       "    }\n",
       "\n",
       "    .dataframe thead th {\n",
       "        text-align: right;\n",
       "    }\n",
       "</style>\n",
       "<table border=\"1\" class=\"dataframe\">\n",
       "  <thead>\n",
       "    <tr style=\"text-align: right;\">\n",
       "      <th></th>\n",
       "      <th>timestampMeasurement</th>\n",
       "      <th>value</th>\n",
       "    </tr>\n",
       "    <tr>\n",
       "      <th>meterValueId</th>\n",
       "      <th></th>\n",
       "      <th></th>\n",
       "    </tr>\n",
       "  </thead>\n",
       "  <tbody>\n",
       "    <tr>\n",
       "      <th>867ee0c0-d244-403d-9fb6-678ec00d1004</th>\n",
       "      <td>2018-08-08T07:14:43Z</td>\n",
       "      <td>0.000</td>\n",
       "    </tr>\n",
       "    <tr>\n",
       "      <th>57ef99f6-af53-4b4d-b15f-0ed2826bad96</th>\n",
       "      <td>2018-08-08T07:15:03Z</td>\n",
       "      <td>3211.290</td>\n",
       "    </tr>\n",
       "    <tr>\n",
       "      <th>f875bf61-019d-4ce9-ad6b-4624f025c014</th>\n",
       "      <td>2018-08-08T07:15:23Z</td>\n",
       "      <td>3282.190</td>\n",
       "    </tr>\n",
       "    <tr>\n",
       "      <th>22fcf2d6-2f90-415b-8fec-25b9fd857e62</th>\n",
       "      <td>2018-08-08T07:15:43Z</td>\n",
       "      <td>3324.700</td>\n",
       "    </tr>\n",
       "    <tr>\n",
       "      <th>4cbf93fd-c0ea-4320-83a6-54970e278dd6</th>\n",
       "      <td>2018-08-08T07:16:03Z</td>\n",
       "      <td>3334.500</td>\n",
       "    </tr>\n",
       "  </tbody>\n",
       "</table>\n",
       "</div>"
      ],
      "text/plain": [
       "                                      timestampMeasurement     value\n",
       "meterValueId                                                        \n",
       "867ee0c0-d244-403d-9fb6-678ec00d1004  2018-08-08T07:14:43Z     0.000\n",
       "57ef99f6-af53-4b4d-b15f-0ed2826bad96  2018-08-08T07:15:03Z  3211.290\n",
       "f875bf61-019d-4ce9-ad6b-4624f025c014  2018-08-08T07:15:23Z  3282.190\n",
       "22fcf2d6-2f90-415b-8fec-25b9fd857e62  2018-08-08T07:15:43Z  3324.700\n",
       "4cbf93fd-c0ea-4320-83a6-54970e278dd6  2018-08-08T07:16:03Z  3334.500"
      ]
     },
     "execution_count": 129,
     "metadata": {},
     "output_type": "execute_result"
    }
   ],
   "source": [
    "power_data_cleaned.head()"
   ]
  },
  {
   "cell_type": "code",
   "execution_count": 130,
   "metadata": {},
   "outputs": [],
   "source": [
    "power_data_cleaned_super_cleaned = power_data_cleaned[1:111]"
   ]
  },
  {
   "cell_type": "code",
   "execution_count": 131,
   "metadata": {},
   "outputs": [
    {
     "name": "stderr",
     "output_type": "stream",
     "text": [
      "/Users/ericmassip/anaconda3/envs/thesis3/lib/python3.7/site-packages/ipykernel_launcher.py:2: SettingWithCopyWarning: \n",
      "A value is trying to be set on a copy of a slice from a DataFrame.\n",
      "Try using .loc[row_indexer,col_indexer] = value instead\n",
      "\n",
      "See the caveats in the documentation: http://pandas.pydata.org/pandas-docs/stable/indexing.html#indexing-view-versus-copy\n",
      "  \n",
      "/Users/ericmassip/anaconda3/envs/thesis3/lib/python3.7/site-packages/ipykernel_launcher.py:3: SettingWithCopyWarning: \n",
      "A value is trying to be set on a copy of a slice from a DataFrame.\n",
      "Try using .loc[row_indexer,col_indexer] = value instead\n",
      "\n",
      "See the caveats in the documentation: http://pandas.pydata.org/pandas-docs/stable/indexing.html#indexing-view-versus-copy\n",
      "  This is separate from the ipykernel package so we can avoid doing imports until\n"
     ]
    }
   ],
   "source": [
    "power_data_cleaned_super_cleaned.head()\n",
    "power_data_cleaned_super_cleaned['timestampMeasurement'] = pd.to_datetime(power_data_cleaned_super_cleaned['timestampMeasurement'])\n",
    "power_data_cleaned_super_cleaned['value'] = pd.to_numeric(power_data_cleaned_super_cleaned['value'])"
   ]
  },
  {
   "cell_type": "code",
   "execution_count": 132,
   "metadata": {},
   "outputs": [
    {
     "name": "stdout",
     "output_type": "stream",
     "text": [
      "meterValueId\n",
      "57ef99f6-af53-4b4d-b15f-0ed2826bad96    07:15:03\n",
      "f875bf61-019d-4ce9-ad6b-4624f025c014    07:15:23\n",
      "22fcf2d6-2f90-415b-8fec-25b9fd857e62    07:15:43\n",
      "4cbf93fd-c0ea-4320-83a6-54970e278dd6    07:16:03\n",
      "2b8e1555-3a16-4ee0-b885-4645c759443e    07:16:23\n",
      "4ee88d08-2b85-45da-9e4c-1184d7e4fbc1    07:16:43\n",
      "3956229c-b60c-4594-9a09-d418b58f00ca    07:17:03\n",
      "d5713490-d666-4d7a-9c4b-fafb79ab1e8a    07:17:23\n",
      "35eaf945-3329-4037-96e3-14dbc1deecd0    07:17:43\n",
      "8f99b79a-00f1-4632-9442-4c2d1a421203    07:18:03\n",
      "4a113543-1cd0-4063-9222-3035a7700b0d    07:18:23\n",
      "2370216a-a8d6-4c95-b759-5f33c3e8194f    07:18:43\n",
      "7ba552d2-dda0-4aa1-8965-e3abb8016684    07:19:03\n",
      "b4a39a62-1f63-4478-845c-df5982f80145    07:19:23\n",
      "f180ce3e-c955-4aad-90c7-c621675ab0d9    07:19:43\n",
      "2880323a-bd4a-417d-b286-2c0237c5b91a    07:20:03\n",
      "81ed7111-3118-4a81-90ef-7978e955b0d8    07:20:23\n",
      "3dccd99e-b38c-4c58-92ac-0cd63046e41f    07:20:43\n",
      "1b715462-6fea-4568-b14b-55367b4148dc    07:21:03\n",
      "dfca36ce-687e-4d35-a6c2-e27178a7180f    07:21:23\n",
      "a76ebc8c-1297-4b41-b41e-88271233238b    07:21:43\n",
      "2b274f3c-aa79-4400-8f68-9b8052031a92    07:22:03\n",
      "45af2ec5-423f-4fa7-b3b5-9021a3201fca    07:22:23\n",
      "d2019be1-dcb0-4018-9c70-ba8f4aa28f14    07:22:43\n",
      "7c2941b9-8405-4e52-aa0c-84e7e24d4c03    07:23:03\n",
      "4649a5ba-136d-46a0-8dcf-0db5e167ec79    07:23:23\n",
      "d44ccfda-5b0c-4120-8791-dd2d32a9d9d7    07:23:43\n",
      "88e04f9f-ccae-4de2-9415-ed75ffac3f78    07:24:03\n",
      "56b70cf2-f6d5-433d-b7df-4c00aad1a075    07:24:23\n",
      "ab7857bd-f9fb-4c2a-81d9-e4aa4fc1a2a9    07:24:43\n",
      "                                          ...   \n",
      "d067c564-b83a-45ff-8545-bf2ca1143d3d    07:41:43\n",
      "07091ef2-cda6-401c-ac8f-a2389d7a39eb    07:42:03\n",
      "e2e648c0-ef28-4a9b-bbbc-0b77ee37d6f8    07:42:23\n",
      "0b0c924c-7d36-46eb-9c48-52eff3f3de91    07:42:43\n",
      "9fd250b7-989e-4fa0-acd3-9c12a9eadca0    07:43:03\n",
      "b923d39f-7375-40ce-8495-ffd47db1be62    07:43:23\n",
      "367c738f-95fa-4cb9-92ff-b5060e4d4c23    07:43:43\n",
      "d7d02ee7-a10d-4bbe-9963-c0a945527b4e    07:44:03\n",
      "b359cea3-209f-436e-946a-55858771365e    07:44:23\n",
      "e8bdfe76-b5a9-4157-86d0-4761873973a7    07:44:43\n",
      "001e42a7-0c5e-47c6-a5e0-9f4ca7ba3087    07:45:03\n",
      "0cc2901b-e932-499b-92c0-25d2ee304f4e    07:45:23\n",
      "212818f3-abcc-49ad-bd5c-5852906d5e83    07:45:43\n",
      "151ba35f-ddbc-410b-8259-0bad2dd00c0d    07:46:03\n",
      "7455ac33-101d-429c-8a32-303e80828104    07:46:23\n",
      "4b1941a7-e63c-4dde-bd4a-8a11216749e5    07:46:43\n",
      "8df2eb74-3aa6-4c77-a1cd-1e7bd5a7fd59    07:47:03\n",
      "f6834a1a-8d65-4fdd-b3a7-a3a9a20f3c98    07:47:23\n",
      "38b3401b-99ae-44a9-b8a1-67b526717305    07:47:43\n",
      "3de8e3d2-6fe7-47f2-a2b6-e173f04011ec    07:48:03\n",
      "cb0eea34-7f8a-46d9-89f7-84ca9aac2160    07:48:23\n",
      "865ce61e-fb2c-4226-a55d-b5a78f3d70b0    07:48:43\n",
      "4fb49068-d2d3-4d8d-a19c-14c07aa20fb2    07:49:03\n",
      "e3101503-0cbc-4ecf-861f-2bab11eb4642    07:49:23\n",
      "7bc8ef62-e6a4-4f9d-854a-79dfa27766d7    07:49:43\n",
      "30116b81-c4b9-41f0-afa5-55253edc6451    07:50:03\n",
      "3cb40e03-ed92-4a0e-b156-604a376ecc76    07:50:23\n",
      "a60f4ea7-b4fa-4ac0-950c-94c296550a94    07:50:43\n",
      "b4bd1e39-c7e2-4140-9e51-95c7aa1ee263    07:51:03\n",
      "b1e7edf5-a2dd-460b-b19f-23001bad189c    07:51:23\n",
      "Name: new_formatted_date, Length: 110, dtype: object\n"
     ]
    },
    {
     "name": "stderr",
     "output_type": "stream",
     "text": [
      "/Users/ericmassip/anaconda3/envs/thesis3/lib/python3.7/site-packages/ipykernel_launcher.py:1: SettingWithCopyWarning: \n",
      "A value is trying to be set on a copy of a slice from a DataFrame.\n",
      "Try using .loc[row_indexer,col_indexer] = value instead\n",
      "\n",
      "See the caveats in the documentation: http://pandas.pydata.org/pandas-docs/stable/indexing.html#indexing-view-versus-copy\n",
      "  \"\"\"Entry point for launching an IPython kernel.\n"
     ]
    }
   ],
   "source": [
    "power_data_cleaned_super_cleaned['new_formatted_date'] = power_data_cleaned_super_cleaned['timestampMeasurement'].dt.strftime('%H:%M:%S')\n",
    "#power_data_cleaned_super_cleaned['new_formatted_date'] = pd.to_datetime(power_data_cleaned_super_cleaned['new_formatted_date'])\n",
    "print(power_data_cleaned_super_cleaned['new_formatted_date'])"
   ]
  },
  {
   "cell_type": "code",
   "execution_count": 135,
   "metadata": {},
   "outputs": [
    {
     "data": {
      "image/png": "[encoded data removed]",
      "text/plain": [
       "<Figure size 720x504 with 1 Axes>"
      ]
     },
     "metadata": {},
     "output_type": "display_data"
    }
   ],
   "source": [
    "ax = sns.scatterplot(x=\"new_formatted_date\", y=\"value\", data=power_data_cleaned_super_cleaned, s=30)\n",
    "#plt.xticks(range(1970, 2011, 10), fontsize=14)\n",
    "maxValue = power_data_cleaned_super_cleaned.at[power_data_cleaned_super_cleaned['value'].idxmax(), 'value'].astype(np.int64)\n",
    "ax.set_yticks(range(0, maxValue, 200))\n",
    "_=plt.xticks(rotation=90)\n",
    "plt.show()"
   ]
  },
  {
   "cell_type": "code",
   "execution_count": 139,
   "metadata": {},
   "outputs": [
    {
     "data": {
      "image/png": "[encoded data removed]",
      "text/plain": [
       "<Figure size 720x504 with 1 Axes>"
      ]
     },
     "metadata": {},
     "output_type": "display_data"
    }
   ],
   "source": [
    "import matplotlib.dates as md\n",
    "\n",
    "ax = sns.scatterplot(x=\"new_formatted_date\", y=\"value\", data=power_data_cleaned_super_cleaned, s=10)\n",
    "maxValue = power_data_cleaned_super_cleaned.at[power_data_cleaned_super_cleaned['value'].idxmax(), 'value'].astype(np.int64)\n",
    "ax.set_yticks(range(0, maxValue, 200))\n",
    "\n",
    "#ax.set_xticks(power_data_cleaned_super_cleaned.new_formatted_date)\n",
    "#ax.xaxis.set_major_locator(md.MinuteLocator(interval=15))\n",
    "#ax.xaxis.set_major_formatter(md.DateFormatter(\"%H:%M:%S\"))\n",
    "#ax.xaxis.set_minor_formatter(md.DateFormatter(\"%H:%M:%S\"))\n",
    "\n",
    "_=plt.xticks(rotation=90)\n",
    "\n",
    "plt.show()"
   ]
  },
  {
   "cell_type": "code",
   "execution_count": 103,
   "metadata": {},
   "outputs": [
    {
     "data": {
      "image/png": "[encoded data removed]",
      "text/plain": [
       "<Figure size 720x504 with 1 Axes>"
      ]
     },
     "metadata": {},
     "output_type": "display_data"
    }
   ],
   "source": [
    "ax = sns.scatterplot(x=\"timestampMeasurement\", y=\"value\", data=power_data_cleaned_super_cleaned, s=30)\n",
    "#plt.xticks(range(1970, 2011, 10), fontsize=14)\n",
    "maxValue = power_data_cleaned_super_cleaned.at[power_data_cleaned_super_cleaned['value'].idxmax(), 'value'].astype(np.int64)\n",
    "ax.set_yticks(range(0, maxValue, 200))\n",
    "plt.show()"
   ]
  },
  {
   "cell_type": "markdown",
   "metadata": {},
   "source": [
    "##### s = size of the dots"
   ]
  },
  {
   "cell_type": "code",
   "execution_count": null,
   "metadata": {
    "collapsed": true
   },
   "outputs": [],
   "source": []
  }
 ],
 "metadata": {
  "kernelspec": {
   "display_name": "thesis3",
   "language": "python",
   "name": "thesis3"
  },
  "language_info": {
   "codemirror_mode": {
    "name": "ipython",
    "version": 3
   },
   "file_extension": ".py",
   "mimetype": "text/x-python",
   "name": "python",
   "nbconvert_exporter": "python",
   "pygments_lexer": "ipython3",
   "version": "3.7.1"
  }
 },
 "nbformat": 4,
 "nbformat_minor": 2
}
