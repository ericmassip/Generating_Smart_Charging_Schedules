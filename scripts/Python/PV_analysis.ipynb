{
 "cells": [
  {
   "cell_type": "code",
   "execution_count": 51,
   "metadata": {
    "collapsed": true
   },
   "outputs": [],
   "source": [
    "import urllib\n",
    "import requests\n",
    "from datetime import datetime\n",
    "import json\n",
    "import pprint\n",
    "\n",
    "URL = 'https://st-dev-data-api.azurewebsites.net'\n",
    "invertersURL = urllib.parse.urljoin(URL, '/api/v0.1/buildings/energyville1/pv/roof/inverters/')\n",
    "powerURL = urllib.parse.urljoin(URL, '/api/v0.1/buildings/energyville1/pv/roof/power/')\n",
    "user = 'eric_massip'\n",
    "pswd = 'ssCpoDC3uHF4ssHJtvMf'\n",
    "\n",
    "DATE_FORMAT_STR = \"%Y-%m-%d\"\n",
    "\n",
    "start = datetime(2017, 6, 1)\n",
    "end = datetime(2017, 6, 2)\n",
    "\n",
    "\n",
    "def get_inverter_ids():\n",
    "    inverter_ids_json_response = json.loads(requests.get(invertersURL, auth=(user, pswd)).text)['data']\n",
    "    inverter_ids = []\n",
    "    for i in range(len(inverter_ids_json_response)):\n",
    "        inverter_ids.append(inverter_ids_json_response[i]['InverterId'])\n",
    "    return inverter_ids\n",
    "\n",
    "\n",
    "def get_params(inverter_id):\n",
    "    return {'start': start.strftime(DATE_FORMAT_STR),\n",
    "            'end': end.strftime(DATE_FORMAT_STR),\n",
    "            'time_zone': 'Central European Standard Time',\n",
    "            'inverter_ids': inverter_id}\n",
    "\n",
    "\n",
    "def get_power_consumption(inverter_id):\n",
    "    return json.loads(requests.get(powerURL, params=get_params(inverter_id), auth=(user, pswd)).text)['data']\n",
    "\n",
    "\n",
    "def get_all_power_consumptions():\n",
    "    inverter_ids = get_inverter_ids()\n",
    "    return [get_power_consumption(inverter_id) for inverter_id in inverter_ids]\n",
    "\n",
    "\n",
    "all_power_consumptions = get_all_power_consumptions()"
   ]
  },
  {
   "cell_type": "code",
   "execution_count": 113,
   "metadata": {},
   "outputs": [],
   "source": [
    "from datetime import timedelta\n",
    "\n",
    "timedelta_5 = timedelta(minutes=5)\n",
    "\n",
    "caca = start + timedelta_5\n",
    "\n",
    "dates = [start]\n",
    "for i in range(1, 288):\n",
    "    dates.append(dates[i - 1] + timedelta_5)"
   ]
  },
  {
   "cell_type": "code",
   "execution_count": 109,
   "metadata": {},
   "outputs": [
    {
     "name": "stdout",
     "output_type": "stream",
     "text": [
      "2017-06-01 00:00:00+02:00\n2017-06-01 00:00:00+02:00\nTrue\n"
     ]
    }
   ],
   "source": [
    "total_power_consumption = []\n",
    "\n",
    "for date in dates:\n",
    "    power_sum = 0\n",
    "    for inverter_consumption in all_power_consumptions:\n",
    "        for i in range(len(inverter_consumption)):\n",
    "            log_generation_power = inverter_consumption[i]['GenerationPower']\n",
    "            if log_generation_power != 0:\n",
    "                log_hour = datetime.fromisoformat(inverter_consumption[i]['DateTimeMeasurement']).hour\n",
    "                log_minute = datetime.fromisoformat(inverter_consumption[i]['DateTimeMeasurement']).minute\n",
    "                if log_hour == date.hour and log_minute == date.minute:\n",
    "                    power_sum += log_generation_power\n",
    "    total_power_consumption.append({'date': date.strftime(\"%Y-%m-%d %H:%M:%S\"), 'power_sum': power_sum})"
   ]
  },
  {
   "cell_type": "code",
   "execution_count": 110,
   "metadata": {},
   "outputs": [
    {
     "data": {
      "text/plain": [
       "[{'date': '2017-06-01 00:00:00', 'power_sum': 0},\n {'date': '2017-06-01 00:05:00', 'power_sum': 0},\n {'date': '2017-06-01 00:10:00', 'power_sum': 0},\n {'date': '2017-06-01 00:15:00', 'power_sum': 0},\n {'date': '2017-06-01 00:20:00', 'power_sum': 0},\n {'date': '2017-06-01 00:25:00', 'power_sum': 0},\n {'date': '2017-06-01 00:30:00', 'power_sum': 0},\n {'date': '2017-06-01 00:35:00', 'power_sum': 0},\n {'date': '2017-06-01 00:40:00', 'power_sum': 0},\n {'date': '2017-06-01 00:45:00', 'power_sum': 0},\n {'date': '2017-06-01 00:50:00', 'power_sum': 0},\n {'date': '2017-06-01 00:55:00', 'power_sum': 0},\n {'date': '2017-06-01 01:00:00', 'power_sum': 0},\n {'date': '2017-06-01 01:05:00', 'power_sum': 0},\n {'date': '2017-06-01 01:10:00', 'power_sum': 0},\n {'date': '2017-06-01 01:15:00', 'power_sum': 0},\n {'date': '2017-06-01 01:20:00', 'power_sum': 0},\n {'date': '2017-06-01 01:25:00', 'power_sum': 0},\n {'date': '2017-06-01 01:30:00', 'power_sum': 0},\n {'date': '2017-06-01 01:35:00', 'power_sum': 0},\n {'date': '2017-06-01 01:40:00', 'power_sum': 0},\n {'date': '2017-06-01 01:45:00', 'power_sum': 0},\n {'date': '2017-06-01 01:50:00', 'power_sum': 0},\n {'date': '2017-06-01 01:55:00', 'power_sum': 0},\n {'date': '2017-06-01 02:00:00', 'power_sum': 0},\n {'date': '2017-06-01 02:05:00', 'power_sum': 0},\n {'date': '2017-06-01 02:10:00', 'power_sum': 0},\n {'date': '2017-06-01 02:15:00', 'power_sum': 0},\n {'date': '2017-06-01 02:20:00', 'power_sum': 0},\n {'date': '2017-06-01 02:25:00', 'power_sum': 0},\n {'date': '2017-06-01 02:30:00', 'power_sum': 0},\n {'date': '2017-06-01 02:35:00', 'power_sum': 0},\n {'date': '2017-06-01 02:40:00', 'power_sum': 0},\n {'date': '2017-06-01 02:45:00', 'power_sum': 0},\n {'date': '2017-06-01 02:50:00', 'power_sum': 0},\n {'date': '2017-06-01 02:55:00', 'power_sum': 0},\n {'date': '2017-06-01 03:00:00', 'power_sum': 0},\n {'date': '2017-06-01 03:05:00', 'power_sum': 0},\n {'date': '2017-06-01 03:10:00', 'power_sum': 0},\n {'date': '2017-06-01 03:15:00', 'power_sum': 0},\n {'date': '2017-06-01 03:20:00', 'power_sum': 0},\n {'date': '2017-06-01 03:25:00', 'power_sum': 0},\n {'date': '2017-06-01 03:30:00', 'power_sum': 0},\n {'date': '2017-06-01 03:35:00', 'power_sum': 0},\n {'date': '2017-06-01 03:40:00', 'power_sum': 0},\n {'date': '2017-06-01 03:45:00', 'power_sum': 0},\n {'date': '2017-06-01 03:50:00', 'power_sum': 0},\n {'date': '2017-06-01 03:55:00', 'power_sum': 0},\n {'date': '2017-06-01 04:00:00', 'power_sum': 0},\n {'date': '2017-06-01 04:05:00', 'power_sum': 0},\n {'date': '2017-06-01 04:10:00', 'power_sum': 0},\n {'date': '2017-06-01 04:15:00', 'power_sum': 0},\n {'date': '2017-06-01 04:20:00', 'power_sum': 0},\n {'date': '2017-06-01 04:25:00', 'power_sum': 0},\n {'date': '2017-06-01 04:30:00', 'power_sum': 0},\n {'date': '2017-06-01 04:35:00', 'power_sum': 0},\n {'date': '2017-06-01 04:40:00', 'power_sum': 0},\n {'date': '2017-06-01 04:45:00', 'power_sum': 0},\n {'date': '2017-06-01 04:50:00', 'power_sum': 0},\n {'date': '2017-06-01 04:55:00', 'power_sum': 0},\n {'date': '2017-06-01 05:00:00', 'power_sum': 0},\n {'date': '2017-06-01 05:05:00', 'power_sum': 0},\n {'date': '2017-06-01 05:10:00', 'power_sum': 0},\n {'date': '2017-06-01 05:15:00', 'power_sum': 0},\n {'date': '2017-06-01 05:20:00', 'power_sum': 0},\n {'date': '2017-06-01 05:25:00', 'power_sum': 0},\n {'date': '2017-06-01 05:30:00', 'power_sum': 0},\n {'date': '2017-06-01 05:35:00', 'power_sum': 0},\n {'date': '2017-06-01 05:40:00', 'power_sum': 71.0},\n {'date': '2017-06-01 05:45:00', 'power_sum': 151.0},\n {'date': '2017-06-01 05:50:00', 'power_sum': 338.0},\n {'date': '2017-06-01 05:55:00', 'power_sum': 442.0},\n {'date': '2017-06-01 06:00:00', 'power_sum': 553.0},\n {'date': '2017-06-01 06:05:00', 'power_sum': 753.0},\n {'date': '2017-06-01 06:10:00', 'power_sum': 869.0},\n {'date': '2017-06-01 06:15:00', 'power_sum': 1119.0},\n {'date': '2017-06-01 06:20:00', 'power_sum': 1282.0},\n {'date': '2017-06-01 06:25:00', 'power_sum': 1623.0},\n {'date': '2017-06-01 06:30:00', 'power_sum': 1787.0},\n {'date': '2017-06-01 06:35:00', 'power_sum': 1952.0},\n {'date': '2017-06-01 06:40:00', 'power_sum': 2302.0},\n {'date': '2017-06-01 06:45:00', 'power_sum': 2484.0},\n {'date': '2017-06-01 06:50:00', 'power_sum': 2685.0},\n {'date': '2017-06-01 06:55:00', 'power_sum': 3148.0},\n {'date': '2017-06-01 07:00:00', 'power_sum': 3367.0},\n {'date': '2017-06-01 07:05:00', 'power_sum': 3566.0},\n {'date': '2017-06-01 07:10:00', 'power_sum': 3717.0},\n {'date': '2017-06-01 07:15:00', 'power_sum': 4109.0},\n {'date': '2017-06-01 07:20:00', 'power_sum': 4451.0},\n {'date': '2017-06-01 07:25:00', 'power_sum': 4729.0},\n {'date': '2017-06-01 07:30:00', 'power_sum': 5237.0},\n {'date': '2017-06-01 07:35:00', 'power_sum': 5437.0},\n {'date': '2017-06-01 07:40:00', 'power_sum': 5900.0},\n {'date': '2017-06-01 07:45:00', 'power_sum': 6157.0},\n {'date': '2017-06-01 07:50:00', 'power_sum': 6434.0},\n {'date': '2017-06-01 07:55:00', 'power_sum': 6825.0},\n {'date': '2017-06-01 08:00:00', 'power_sum': 7128.0},\n {'date': '2017-06-01 08:05:00', 'power_sum': 7518.0},\n {'date': '2017-06-01 08:10:00', 'power_sum': 8970.0},\n {'date': '2017-06-01 08:15:00', 'power_sum': 10302.0},\n {'date': '2017-06-01 08:20:00', 'power_sum': 11561.0},\n {'date': '2017-06-01 08:25:00', 'power_sum': 12154.0},\n {'date': '2017-06-01 08:30:00', 'power_sum': 13188.0},\n {'date': '2017-06-01 08:35:00', 'power_sum': 13582.0},\n {'date': '2017-06-01 08:40:00', 'power_sum': 13964.0},\n {'date': '2017-06-01 08:45:00', 'power_sum': 14628.0},\n {'date': '2017-06-01 08:50:00', 'power_sum': 14928.0},\n {'date': '2017-06-01 08:55:00', 'power_sum': 15576.0},\n {'date': '2017-06-01 09:00:00', 'power_sum': 15954.0},\n {'date': '2017-06-01 09:05:00', 'power_sum': 16417.0},\n {'date': '2017-06-01 09:10:00', 'power_sum': 17195.0},\n {'date': '2017-06-01 09:15:00', 'power_sum': 17710.0},\n {'date': '2017-06-01 09:20:00', 'power_sum': 17976.0},\n {'date': '2017-06-01 09:25:00', 'power_sum': 18427.0},\n {'date': '2017-06-01 09:30:00', 'power_sum': 18855.0},\n {'date': '2017-06-01 09:35:00', 'power_sum': 19613.0},\n {'date': '2017-06-01 09:40:00', 'power_sum': 20015.0},\n {'date': '2017-06-01 09:45:00', 'power_sum': 20201.0},\n {'date': '2017-06-01 09:50:00', 'power_sum': 20744.0},\n {'date': '2017-06-01 09:55:00', 'power_sum': 21007.0},\n {'date': '2017-06-01 10:00:00', 'power_sum': 21489.0},\n {'date': '2017-06-01 10:05:00', 'power_sum': 22018.0},\n {'date': '2017-06-01 10:10:00', 'power_sum': 22595.0},\n {'date': '2017-06-01 10:15:00', 'power_sum': 23075.0},\n {'date': '2017-06-01 10:20:00', 'power_sum': 23494.0},\n {'date': '2017-06-01 10:25:00', 'power_sum': 23701.0},\n {'date': '2017-06-01 10:30:00', 'power_sum': 24189.0},\n {'date': '2017-06-01 10:35:00', 'power_sum': 24591.0},\n {'date': '2017-06-01 10:40:00', 'power_sum': 25210.0},\n {'date': '2017-06-01 10:45:00', 'power_sum': 25119.0},\n {'date': '2017-06-01 10:50:00', 'power_sum': 25815.0},\n {'date': '2017-06-01 10:55:00', 'power_sum': 25968.0},\n {'date': '2017-06-01 11:00:00', 'power_sum': 26646.0},\n {'date': '2017-06-01 11:05:00', 'power_sum': 26563.0},\n {'date': '2017-06-01 11:10:00', 'power_sum': 27989.0},\n {'date': '2017-06-01 11:15:00', 'power_sum': 28657.0},\n {'date': '2017-06-01 11:20:00', 'power_sum': 27598.0},\n {'date': '2017-06-01 11:25:00', 'power_sum': 29794.0},\n {'date': '2017-06-01 11:30:00', 'power_sum': 28979.0},\n {'date': '2017-06-01 11:35:00', 'power_sum': 29012.0},\n {'date': '2017-06-01 11:40:00', 'power_sum': 29991.0},\n {'date': '2017-06-01 11:45:00', 'power_sum': 30969.0},\n {'date': '2017-06-01 11:50:00', 'power_sum': 31423.0},\n {'date': '2017-06-01 11:55:00', 'power_sum': 31289.0},\n {'date': '2017-06-01 12:00:00', 'power_sum': 30224.0},\n {'date': '2017-06-01 12:05:00', 'power_sum': 23571.0},\n {'date': '2017-06-01 12:10:00', 'power_sum': 32303.0},\n {'date': '2017-06-01 12:15:00', 'power_sum': 33898.0},\n {'date': '2017-06-01 12:20:00', 'power_sum': 33217.0},\n {'date': '2017-06-01 12:25:00', 'power_sum': 32812.0},\n {'date': '2017-06-01 12:30:00', 'power_sum': 34083.0},\n {'date': '2017-06-01 12:35:00', 'power_sum': 33767.0},\n {'date': '2017-06-01 12:40:00', 'power_sum': 33737.0},\n {'date': '2017-06-01 12:45:00', 'power_sum': 33696.0},\n {'date': '2017-06-01 12:50:00', 'power_sum': 32931.0},\n {'date': '2017-06-01 12:55:00', 'power_sum': 32801.0},\n {'date': '2017-06-01 13:00:00', 'power_sum': 33921.0},\n {'date': '2017-06-01 13:05:00', 'power_sum': 34814.0},\n {'date': '2017-06-01 13:10:00', 'power_sum': 34795.0},\n {'date': '2017-06-01 13:15:00', 'power_sum': 34643.0},\n {'date': '2017-06-01 13:20:00', 'power_sum': 34359.0},\n {'date': '2017-06-01 13:25:00', 'power_sum': 33286.0},\n {'date': '2017-06-01 13:30:00', 'power_sum': 32498.0},\n {'date': '2017-06-01 13:35:00', 'power_sum': 33205.0},\n {'date': '2017-06-01 13:40:00', 'power_sum': 23034.0},\n {'date': '2017-06-01 13:45:00', 'power_sum': 10287.0},\n {'date': '2017-06-01 13:50:00', 'power_sum': 9834.0},\n {'date': '2017-06-01 13:55:00', 'power_sum': 8492.0},\n {'date': '2017-06-01 14:00:00', 'power_sum': 11954.0},\n {'date': '2017-06-01 14:05:00', 'power_sum': 35794.0},\n {'date': '2017-06-01 14:10:00', 'power_sum': 24083.0},\n {'date': '2017-06-01 14:15:00', 'power_sum': 10579.0},\n {'date': '2017-06-01 14:20:00', 'power_sum': 9252.0},\n {'date': '2017-06-01 14:25:00', 'power_sum': 9145.0},\n {'date': '2017-06-01 14:30:00', 'power_sum': 22160.0},\n {'date': '2017-06-01 14:35:00', 'power_sum': 9796.0},\n {'date': '2017-06-01 14:40:00', 'power_sum': 10444.0},\n {'date': '2017-06-01 14:45:00', 'power_sum': 34712.0},\n {'date': '2017-06-01 14:50:00', 'power_sum': 32770.0},\n {'date': '2017-06-01 14:55:00', 'power_sum': 31599.0},\n {'date': '2017-06-01 15:00:00', 'power_sum': 31968.0},\n {'date': '2017-06-01 15:05:00', 'power_sum': 30964.0},\n {'date': '2017-06-01 15:10:00', 'power_sum': 29862.0},\n {'date': '2017-06-01 15:15:00', 'power_sum': 22394.0},\n {'date': '2017-06-01 15:20:00', 'power_sum': 29786.0},\n {'date': '2017-06-01 15:25:00', 'power_sum': 30029.0},\n {'date': '2017-06-01 15:30:00', 'power_sum': 29781.0},\n {'date': '2017-06-01 15:35:00', 'power_sum': 11809.0},\n {'date': '2017-06-01 15:40:00', 'power_sum': 24112.0},\n {'date': '2017-06-01 15:45:00', 'power_sum': 21077.0},\n {'date': '2017-06-01 15:50:00', 'power_sum': 30391.0},\n {'date': '2017-06-01 15:55:00', 'power_sum': 9742.0},\n {'date': '2017-06-01 16:00:00', 'power_sum': 7532.0},\n {'date': '2017-06-01 16:05:00', 'power_sum': 8764.0},\n {'date': '2017-06-01 16:10:00', 'power_sum': 19608.0},\n {'date': '2017-06-01 16:15:00', 'power_sum': 23573.0},\n {'date': '2017-06-01 16:20:00', 'power_sum': 29441.0},\n {'date': '2017-06-01 16:25:00', 'power_sum': 27676.0},\n {'date': '2017-06-01 16:30:00', 'power_sum': 26650.0},\n {'date': '2017-06-01 16:35:00', 'power_sum': 25916.0},\n {'date': '2017-06-01 16:40:00', 'power_sum': 26173.0},\n {'date': '2017-06-01 16:45:00', 'power_sum': 26224.0},\n {'date': '2017-06-01 16:50:00', 'power_sum': 10171.0},\n {'date': '2017-06-01 16:55:00', 'power_sum': 7485.0},\n {'date': '2017-06-01 17:00:00', 'power_sum': 7861.0},\n {'date': '2017-06-01 17:05:00', 'power_sum': 7195.0},\n {'date': '2017-06-01 17:10:00', 'power_sum': 7886.0},\n {'date': '2017-06-01 17:15:00', 'power_sum': 23736.0},\n {'date': '2017-06-01 17:20:00', 'power_sum': 8218.0},\n {'date': '2017-06-01 17:25:00', 'power_sum': 7008.0},\n {'date': '2017-06-01 17:30:00', 'power_sum': 6155.0},\n {'date': '2017-06-01 17:35:00', 'power_sum': 17762.0},\n {'date': '2017-06-01 17:40:00', 'power_sum': 18051.0},\n {'date': '2017-06-01 17:45:00', 'power_sum': 7071.0},\n {'date': '2017-06-01 17:50:00', 'power_sum': 5629.0},\n {'date': '2017-06-01 17:55:00', 'power_sum': 5186.0},\n {'date': '2017-06-01 18:00:00', 'power_sum': 6450.0},\n {'date': '2017-06-01 18:05:00', 'power_sum': 12903.0},\n {'date': '2017-06-01 18:10:00', 'power_sum': 5136.0},\n {'date': '2017-06-01 18:15:00', 'power_sum': 5273.0},\n {'date': '2017-06-01 18:20:00', 'power_sum': 13658.0},\n {'date': '2017-06-01 18:25:00', 'power_sum': 12039.0},\n {'date': '2017-06-01 18:30:00', 'power_sum': 9037.0},\n {'date': '2017-06-01 18:35:00', 'power_sum': 5910.0},\n {'date': '2017-06-01 18:40:00', 'power_sum': 11768.0},\n {'date': '2017-06-01 18:45:00', 'power_sum': 11746.0},\n {'date': '2017-06-01 18:50:00', 'power_sum': 10115.0},\n {'date': '2017-06-01 18:55:00', 'power_sum': 8441.0},\n {'date': '2017-06-01 19:00:00', 'power_sum': 7345.0},\n {'date': '2017-06-01 19:05:00', 'power_sum': 6822.0},\n {'date': '2017-06-01 19:10:00', 'power_sum': 6460.0},\n {'date': '2017-06-01 19:15:00', 'power_sum': 5766.0},\n {'date': '2017-06-01 19:20:00', 'power_sum': 6691.0},\n {'date': '2017-06-01 19:25:00', 'power_sum': 6290.0},\n {'date': '2017-06-01 19:30:00', 'power_sum': 5787.0},\n {'date': '2017-06-01 19:35:00', 'power_sum': 3948.0},\n {'date': '2017-06-01 19:40:00', 'power_sum': 3202.0},\n {'date': '2017-06-01 19:45:00', 'power_sum': 3029.0},\n {'date': '2017-06-01 19:50:00', 'power_sum': 2838.0},\n {'date': '2017-06-01 19:55:00', 'power_sum': 2652.0},\n {'date': '2017-06-01 20:00:00', 'power_sum': 2427.0},\n {'date': '2017-06-01 20:05:00', 'power_sum': 2503.0},\n {'date': '2017-06-01 20:10:00', 'power_sum': 2361.0},\n {'date': '2017-06-01 20:15:00', 'power_sum': 2008.0},\n {'date': '2017-06-01 20:20:00', 'power_sum': 1859.0},\n {'date': '2017-06-01 20:25:00', 'power_sum': 1895.0},\n {'date': '2017-06-01 20:30:00', 'power_sum': 1900.0},\n {'date': '2017-06-01 20:35:00', 'power_sum': 1744.0},\n {'date': '2017-06-01 20:40:00', 'power_sum': 1446.0},\n {'date': '2017-06-01 20:45:00', 'power_sum': 1270.0},\n {'date': '2017-06-01 20:50:00', 'power_sum': 982.0},\n {'date': '2017-06-01 20:55:00', 'power_sum': 983.0},\n {'date': '2017-06-01 21:00:00', 'power_sum': 997.0},\n {'date': '2017-06-01 21:05:00', 'power_sum': 954.0},\n {'date': '2017-06-01 21:10:00', 'power_sum': 957.0},\n {'date': '2017-06-01 21:15:00', 'power_sum': 684.0},\n {'date': '2017-06-01 21:20:00', 'power_sum': 552.0},\n {'date': '2017-06-01 21:25:00', 'power_sum': 370.0},\n {'date': '2017-06-01 21:30:00', 'power_sum': 170.0},\n {'date': '2017-06-01 21:35:00', 'power_sum': 86.0},\n {'date': '2017-06-01 21:40:00', 'power_sum': 9.0},\n {'date': '2017-06-01 21:45:00', 'power_sum': 0},\n {'date': '2017-06-01 21:50:00', 'power_sum': 0},\n {'date': '2017-06-01 21:55:00', 'power_sum': 0},\n {'date': '2017-06-01 22:00:00', 'power_sum': 0},\n {'date': '2017-06-01 22:05:00', 'power_sum': 0},\n {'date': '2017-06-01 22:10:00', 'power_sum': 0},\n {'date': '2017-06-01 22:15:00', 'power_sum': 0},\n {'date': '2017-06-01 22:20:00', 'power_sum': 0},\n {'date': '2017-06-01 22:25:00', 'power_sum': 0},\n {'date': '2017-06-01 22:30:00', 'power_sum': 0},\n {'date': '2017-06-01 22:35:00', 'power_sum': 0},\n {'date': '2017-06-01 22:40:00', 'power_sum': 0},\n {'date': '2017-06-01 22:45:00', 'power_sum': 0},\n {'date': '2017-06-01 22:50:00', 'power_sum': 0},\n {'date': '2017-06-01 22:55:00', 'power_sum': 0},\n {'date': '2017-06-01 23:00:00', 'power_sum': 0},\n {'date': '2017-06-01 23:05:00', 'power_sum': 0},\n {'date': '2017-06-01 23:10:00', 'power_sum': 0},\n {'date': '2017-06-01 23:15:00', 'power_sum': 0},\n {'date': '2017-06-01 23:20:00', 'power_sum': 0},\n {'date': '2017-06-01 23:25:00', 'power_sum': 0},\n {'date': '2017-06-01 23:30:00', 'power_sum': 0},\n {'date': '2017-06-01 23:35:00', 'power_sum': 0},\n {'date': '2017-06-01 23:40:00', 'power_sum': 0},\n {'date': '2017-06-01 23:45:00', 'power_sum': 0},\n {'date': '2017-06-01 23:50:00', 'power_sum': 0},\n {'date': '2017-06-01 23:55:00', 'power_sum': 0}]"
      ]
     },
     "execution_count": 110,
     "metadata": {},
     "output_type": "execute_result"
    }
   ],
   "source": [
    "total_power_consumption"
   ]
  }
 ],
 "metadata": {
  "kernelspec": {
   "display_name": "thesis3",
   "language": "python",
   "name": "thesis3"
  },
  "language_info": {
   "codemirror_mode": {
    "name": "ipython",
    "version": 3
   },
   "file_extension": ".py",
   "mimetype": "text/x-python",
   "name": "python",
   "nbconvert_exporter": "python",
   "pygments_lexer": "ipython3",
   "version": "3.7.1"
  }
 },
 "nbformat": 4,
 "nbformat_minor": 2
}
