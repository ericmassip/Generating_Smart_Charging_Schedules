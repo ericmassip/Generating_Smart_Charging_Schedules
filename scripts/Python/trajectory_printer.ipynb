{
 "cells": [
  {
   "cell_type": "code",
   "execution_count": 16,
   "metadata": {},
   "outputs": [],
   "source": [
    "import json\n",
    "import numpy as np"
   ]
  },
  {
   "cell_type": "code",
   "execution_count": 89,
   "metadata": {},
   "outputs": [],
   "source": [
    "json_to_be_beautified = json.loads(open('dict.json').read())"
   ]
  },
  {
   "cell_type": "code",
   "execution_count": 29,
   "metadata": {},
   "outputs": [],
   "source": [
    "def matprint(mat, fmt=\"g\"):\n",
    "    mat = np.around(mat, decimals=2)\n",
    "    col_maxes = [max([len((\"{:\"+fmt+\"}\").format(x)) for x in col]) for col in mat.T]\n",
    "    for x in mat:\n",
    "        for i, y in enumerate(x):\n",
    "            print((\"{:\"+str(col_maxes[i])+fmt+\"}\").format(y), end=\"  \")\n",
    "        print(\"\")"
   ]
  },
  {
   "cell_type": "code",
   "execution_count": 30,
   "metadata": {},
   "outputs": [],
   "source": [
    "def show_trajectory_beautifully(trajectory):\n",
    "    for state_action in trajectory:\n",
    "        print('Timeslot: ' + str(state_action['timeslot']))\n",
    "        print(\"\")\n",
    "        print('Xs:')\n",
    "        matprint(np.reshape(state_action['Xs'], (3, 3)))\n",
    "        print(\"\")\n",
    "        print('Action taken:')\n",
    "        print(state_action['us'])\n",
    "        print(\"\")\n",
    "        print('resulting_Xs:')\n",
    "        matprint(np.reshape(state_action['resulting_Xs'], (3, 3)))\n",
    "        print(\"\")\n",
    "        print('Cost:')\n",
    "        print(state_action['cost'])\n",
    "        print('Next timeslot: ' + str(state_action['next_timeslot']))\n",
    "        print(\"\")\n",
    "        print(\"\")\n",
    "        print(\"\")"
   ]
  },
  {
   "cell_type": "code",
   "execution_count": 94,
   "metadata": {},
   "outputs": [
    {
     "name": "stdout",
     "output_type": "stream",
     "text": [
      "Timeslot: 1\n",
      "\n",
      "Xs:\n",
      "0     0  0  \n",
      "0  0.33  0  \n",
      "0     0  0  \n",
      "\n",
      "Action taken:\n",
      "[1.0, 0, 0]\n",
      "\n",
      "resulting_Xs:\n",
      "0.33  0  0  \n",
      "   0  0  0  \n",
      "   0  0  0  \n",
      "\n",
      "Cost:\n",
      "1000\n",
      "Next timeslot: 2\n",
      "\n",
      "\n",
      "\n",
      "Timeslot: 2\n",
      "\n",
      "Xs:\n",
      "0.33  0  0  \n",
      "   0  0  0  \n",
      "   0  0  0  \n",
      "\n",
      "Action taken:\n",
      "[0.0, 0, 0]\n",
      "\n",
      "resulting_Xs:\n",
      "0  0  0  \n",
      "0  0  0  \n",
      "0  0  0  \n",
      "\n",
      "Cost:\n",
      "1000\n",
      "Next timeslot: 3\n",
      "\n",
      "\n",
      "\n",
      "Timeslot: 3\n",
      "\n",
      "Xs:\n",
      "0     0  0  \n",
      "0  0.33  0  \n",
      "0     0  0  \n",
      "\n",
      "Action taken:\n",
      "[0.0, 0, 0]\n",
      "\n",
      "resulting_Xs:\n",
      "   0  0  0  \n",
      "0.33  0  0  \n",
      "   0  0  0  \n",
      "\n",
      "Cost:\n",
      "1000\n",
      "Next timeslot: 4\n",
      "\n",
      "\n",
      "\n",
      "Timeslot: 3\n",
      "\n",
      "Xs:\n",
      "0     0  0  \n",
      "0  0.33  0  \n",
      "0     0  0  \n",
      "\n",
      "Action taken:\n",
      "[1.0, 0, 0]\n",
      "\n",
      "resulting_Xs:\n",
      "0.33  0  0  \n",
      "   0  0  0  \n",
      "   0  0  0  \n",
      "\n",
      "Cost:\n",
      "1000\n",
      "Next timeslot: 4\n",
      "\n",
      "\n",
      "\n",
      "Timeslot: 2\n",
      "\n",
      "Xs:\n",
      "0.33  0  0  \n",
      "   0  0  0  \n",
      "   0  0  0  \n",
      "\n",
      "Action taken:\n",
      "[1.0, 0, 0]\n",
      "\n",
      "resulting_Xs:\n",
      "0  0  0  \n",
      "0  0  0  \n",
      "0  0  0  \n",
      "\n",
      "Cost:\n",
      "1000\n",
      "Next timeslot: 3\n",
      "\n",
      "\n",
      "\n",
      "Timeslot: 3\n",
      "\n",
      "Xs:\n",
      "0     0  0  \n",
      "0  0.33  0  \n",
      "0     0  0  \n",
      "\n",
      "Action taken:\n",
      "[0.0, 0, 0]\n",
      "\n",
      "resulting_Xs:\n",
      "   0  0  0  \n",
      "0.33  0  0  \n",
      "   0  0  0  \n",
      "\n",
      "Cost:\n",
      "1000\n",
      "Next timeslot: 4\n",
      "\n",
      "\n",
      "\n",
      "Timeslot: 3\n",
      "\n",
      "Xs:\n",
      "0     0  0  \n",
      "0  0.33  0  \n",
      "0     0  0  \n",
      "\n",
      "Action taken:\n",
      "[1.0, 0, 0]\n",
      "\n",
      "resulting_Xs:\n",
      "0.33  0  0  \n",
      "   0  0  0  \n",
      "   0  0  0  \n",
      "\n",
      "Cost:\n",
      "1000\n",
      "Next timeslot: 4\n",
      "\n",
      "\n",
      "\n"
     ]
    }
   ],
   "source": [
    "trajectory = json_to_be_beautified['trajectories'][2]\n",
    "show_trajectory_beautifully(trajectory)"
   ]
  },
  {
   "cell_type": "code",
   "execution_count": 10,
   "metadata": {},
   "outputs": [],
   "source": [
    "test_me = np.array([[1,2,3],[4,5,6],[7,8,9]])"
   ]
  },
  {
   "cell_type": "code",
   "execution_count": 11,
   "metadata": {},
   "outputs": [
    {
     "data": {
      "text/plain": [
       "array([[1, 2, 3],\n",
       "       [4, 5, 6],\n",
       "       [7, 8, 9]])"
      ]
     },
     "execution_count": 11,
     "metadata": {},
     "output_type": "execute_result"
    }
   ],
   "source": [
    "test_me"
   ]
  },
  {
   "cell_type": "code",
   "execution_count": 15,
   "metadata": {},
   "outputs": [
    {
     "data": {
      "text/plain": [
       "array([3, 6, 9])"
      ]
     },
     "execution_count": 15,
     "metadata": {},
     "output_type": "execute_result"
    }
   ],
   "source": [
    "test_me[:, 2]"
   ]
  },
  {
   "cell_type": "code",
   "execution_count": null,
   "metadata": {},
   "outputs": [],
   "source": []
  }
 ],
 "metadata": {
  "kernelspec": {
   "display_name": "thesis3",
   "language": "python",
   "name": "thesis3"
  },
  "language_info": {
   "codemirror_mode": {
    "name": "ipython",
    "version": 3
   },
   "file_extension": ".py",
   "mimetype": "text/x-python",
   "name": "python",
   "nbconvert_exporter": "python",
   "pygments_lexer": "ipython3",
   "version": "3.7.1"
  }
 },
 "nbformat": 4,
 "nbformat_minor": 1
}
