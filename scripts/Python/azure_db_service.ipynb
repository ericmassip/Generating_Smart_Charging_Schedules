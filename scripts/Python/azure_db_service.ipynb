{
 "cells": [
  {
   "cell_type": "code",
   "execution_count": 1,
   "metadata": {
    "collapsed": true
   },
   "outputs": [],
   "source": [
    "from azure.cosmosdb.table.tableservice import TableService\n",
    "from azure.cosmosdb.table.models import Entity\n",
    "\n",
    "import azure_db_credentials\n",
    "\n",
    "import pandas as pd"
   ]
  },
  {
   "cell_type": "code",
   "execution_count": 2,
   "metadata": {
    "collapsed": true
   },
   "outputs": [],
   "source": [
    "storage_account_name = azure_db_credentials.storage_account_name\n",
    "sas_token = azure_db_credentials.sas_token"
   ]
  },
  {
   "cell_type": "code",
   "execution_count": 3,
   "metadata": {
    "collapsed": true
   },
   "outputs": [],
   "source": [
    "def query_azure_db(filterQuery, selectQuery, tableName, rowKeyColumnName):\n",
    "    \n",
    "    ## Setup the table service\n",
    "    table_service = TableService(account_name=storage_account_name, sas_token=sas_token)\n",
    "    \n",
    "    ## Get the data from the Storage Account\n",
    "    transactions = list(table_service.query_entities(tableName, filter=filterQuery, select=selectQuery))\n",
    "    \n",
    "    ## Store data in a Pandas dataframe in a neat way\n",
    "    df = pd.DataFrame(transactions)\n",
    "    df.rename(columns={'RowKey': rowKeyColumnName}, inplace=True)\n",
    "    df.set_index(rowKeyColumnName, inplace=True)\n",
    "    df.drop(['etag'], axis=1, inplace=True)\n",
    "\n",
    "    return df"
   ]
  },
  {
   "cell_type": "code",
   "execution_count": 4,
   "metadata": {
    "collapsed": true
   },
   "outputs": [],
   "source": [
    "def get_data_from_historical_transactions():\n",
    "    filterQuery = \"deployment eq 'production' and stopTime ne '' and chg3phase ne '' and maxPowerDetermined eq true\"\n",
    "    selectQuery = 'RowKey, chargingStationId, chg3phase, connectorId, idTag, energy, finished, lastSeen, curPower, maxPowerSeen, meterStart, meterStop, startTime, stopTime'\n",
    "    tableName = \"HistoricalTransactions\"\n",
    "    rowKeyColumnName = \"transactionId\"\n",
    "    \n",
    "    return query_azure_db(filterQuery, selectQuery, tableName, rowKeyColumnName)"
   ]
  },
  {
   "cell_type": "code",
   "execution_count": 5,
   "metadata": {
    "collapsed": true
   },
   "outputs": [],
   "source": [
    "def get_power_data_from_meter_values(partitionKey):\n",
    "    filterQuery = \"PartitionKey eq '\" + str(partitionKey) + \"' and measurand eq 'Power.Active.Import'\"\n",
    "    selectQuery = 'PartitionKey, RowKey, chargingStationId, connectorId, timestampMeasurement, value'\n",
    "    tableName = \"MeterValues\"\n",
    "    rowKeyColumnName = \"meterValueId\"\n",
    "    \n",
    "    return query_azure_db(filterQuery, selectQuery, tableName, rowKeyColumnName)"
   ]
  },
  {
   "cell_type": "code",
   "execution_count": 6,
   "metadata": {},
   "outputs": [
    {
     "name": "stdout",
     "output_type": "stream",
     "text": [
      "              chargingStationId  chg3phase  connectorId  curPower  energy  \\\n",
      "transactionId                                                               \n",
      "4120714                  ALFEN1      False            2       0.0   11570   \n",
      "8590630                  BLUEC2       True            1       0.0   11590   \n",
      "9330752                  ALFEN1      False            1       0.0   10800   \n",
      "1150705                  ALFEN1      False            1       0.0   17180   \n",
      "2580630                  ALFEN1      False            2       0.0   11200   \n",
      "\n",
      "               finished           idTag              lastSeen  maxPowerSeen  \\\n",
      "transactionId                                                                 \n",
      "4120714            True  04974FFAB63780  2018-08-08T14:31:30Z        3414.0   \n",
      "8590630            True  043661B2B63780  2018-08-08T15:48:06Z       21558.0   \n",
      "9330752            True  044627B2B63780  2018-08-08T14:52:45Z        6618.0   \n",
      "1150705            True  044D79B2B63780  2018-08-13T15:23:08Z        6799.0   \n",
      "2580630            True  04974FFAB63780  2018-08-13T15:55:29Z        3419.0   \n",
      "\n",
      "               meterStart  meterStop             startTime  \\\n",
      "transactionId                                                \n",
      "4120714            427150   438720.0  2018-08-08T07:14:40Z   \n",
      "8590630            483890   495480.0  2018-08-08T06:30:24Z   \n",
      "9330752            928160   938960.0  2018-08-08T07:52:35Z   \n",
      "1150705            938960   956140.0  2018-08-13T07:05:35Z   \n",
      "2580630            438720   449920.0  2018-08-13T06:29:54Z   \n",
      "\n",
      "                                stopTime  \n",
      "transactionId                             \n",
      "4120714        2018-08-08T14:31:33+00:00  \n",
      "8590630        2018-08-08T15:48:11+00:00  \n",
      "9330752        2018-08-08T14:52:43+00:00  \n",
      "1150705        2018-08-13T15:23:02+00:00  \n",
      "2580630        2018-08-13T15:55:24+00:00  \n"
     ]
    }
   ],
   "source": [
    "data = get_data_from_historical_transactions()\n",
    "print(data.head())"
   ]
  },
  {
   "cell_type": "code",
   "execution_count": 7,
   "metadata": {},
   "outputs": [
    {
     "name": "stdout",
     "output_type": "stream",
     "text": [
      "                                     PartitionKey chargingStationId  \\\n",
      "meterValueId                                                          \n",
      "001e42a7-0c5e-47c6-a5e0-9f4ca7ba3087      4120714            ALFEN1   \n",
      "0021062a-04da-4a3a-a1fe-92b057f76e8c      4120714            ALFEN1   \n",
      "00314cab-ff00-4d8f-9563-48d0cbde50a8      4120714            ALFEN1   \n",
      "0050db6a-e85f-4270-b383-4a63062d4a77      4120714            ALFEN1   \n",
      "0060eaa6-880b-4152-bba9-fa8fbde2e383      4120714            ALFEN1   \n",
      "\n",
      "                                     connectorId  timestampMeasurement  \\\n",
      "meterValueId                                                             \n",
      "001e42a7-0c5e-47c6-a5e0-9f4ca7ba3087           2  2018-08-08T07:45:03Z   \n",
      "0021062a-04da-4a3a-a1fe-92b057f76e8c           2  2018-08-08T13:04:43Z   \n",
      "00314cab-ff00-4d8f-9563-48d0cbde50a8           2  2018-08-08T09:47:03Z   \n",
      "0050db6a-e85f-4270-b383-4a63062d4a77           2  2018-08-08T09:05:43Z   \n",
      "0060eaa6-880b-4152-bba9-fa8fbde2e383           2  2018-08-08T12:44:23Z   \n",
      "\n",
      "                                         value  \n",
      "meterValueId                                    \n",
      "001e42a7-0c5e-47c6-a5e0-9f4ca7ba3087  3406.080  \n",
      "0021062a-04da-4a3a-a1fe-92b057f76e8c     0.000  \n",
      "00314cab-ff00-4d8f-9563-48d0cbde50a8  3390.400  \n",
      "0050db6a-e85f-4270-b383-4a63062d4a77  3386.180  \n",
      "0060eaa6-880b-4152-bba9-fa8fbde2e383     0.000  \n"
     ]
    }
   ],
   "source": [
    "data = get_power_data_from_meter_values(4120714)\n",
    "print(data.head())"
   ]
  },
  {
   "cell_type": "code",
   "execution_count": null,
   "metadata": {
    "collapsed": true
   },
   "outputs": [],
   "source": []
  }
 ],
 "metadata": {
  "kernelspec": {
   "display_name": "thesis3",
   "language": "python",
   "name": "thesis3"
  },
  "language_info": {
   "codemirror_mode": {
    "name": "ipython",
    "version": 3
   },
   "file_extension": ".py",
   "mimetype": "text/x-python",
   "name": "python",
   "nbconvert_exporter": "python",
   "pygments_lexer": "ipython3",
   "version": "3.7.1"
  }
 },
 "nbformat": 4,
 "nbformat_minor": 2
}
